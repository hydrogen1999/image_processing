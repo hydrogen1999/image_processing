{
 "cells": [
  {
   "cell_type": "code",
   "execution_count": 23,
   "metadata": {},
   "outputs": [],
   "source": [
    "import cv2\n",
    "import numpy as np\n",
    "from scipy import ndimage"
   ]
  },
  {
   "cell_type": "markdown",
   "metadata": {},
   "source": [
    "### SIFT MATCHING"
   ]
  },
  {
   "cell_type": "code",
   "execution_count": 24,
   "metadata": {},
   "outputs": [],
   "source": [
    "def gaussian_kernel(k_size, sigma):\n",
    "    center = k_size // 2\n",
    "    x, y = np.mgrid[0 - center : k_size - center, 0 - center : k_size - center]\n",
    "    g = 1 / (2 * np.pi * sigma) * np.exp(-(np.square(x) + np.square(y)) / (2 * np.square(sigma)))\n",
    "    return g"
   ]
  },
  {
   "cell_type": "code",
   "execution_count": null,
   "metadata": {},
   "outputs": [],
   "source": [
    "def non_maximum_suppression(R):\n",
    "    mask = np.zeros(R.shape)\n",
    "    h = R.shape[0]\n",
    "    w = R.shape[1]\n",
    "    d_list = [[-1, -1], [-1, 0], [-1, +1],\n",
    "              [0, -1], [0, +1],\n",
    "              [+1, -1], [+1, 0], [+1, +1]]\n",
    "\n",
    "    for i in range(0,int(R.shape[0])):\n",
    "        for j in range(0,int(R.shape[1])):\n",
    "            flag = True\n",
    "            for d in d_list:\n",
    "                ni, nj = (i + d[0], j + d[1])\n",
    "                if (0 <= ni < h) and (0 <= nj < w):\n",
    "                    if (R[ni, nj] >= R[i, j]):\n",
    "                        flag = False\n",
    "            if flag:\n",
    "                mask[i,j] = 1\n",
    "            else:\n",
    "                mask[i,j] = 0\n",
    "\n",
    "            if(R[i-1,j-1] < R[i,j] and R[i,j-1] < R[i,j] and R[i-1,j] < R[i,j] and R[i+1,j] < R[i,j]\n",
    "            and R[i-1,j+1] < R[i,j] and R[i,j+1] < R[i,j] and R[i+1,j+1] < R[i,j] and R[i+1,j-1] < R[i,j]):\n",
    "                mask[i,j] = 1\n",
    "            else:\n",
    "                mask[i,j] = 0\n",
    "    return mask"
   ]
  },
  {
   "cell_type": "code",
   "execution_count": 37,
   "metadata": {},
   "outputs": [],
   "source": [
    "def get_interest_points(image, feature_width):\n",
    "    small_gaussian = gaussian_kernel(9,1)\n",
    "    large_gaussian = gaussian_kernel(feature_width^2, 2)\n",
    "\n",
    "    gaussian_dx = np.gradient(small_gaussian, axis=0)\n",
    "    gaussian_dy = np.gradient(small_gaussian, axis=1)\n",
    "    k=0.04\n",
    "    img_size = image.shape\n",
    "\n",
    "    IX = ndimage.convolve(image, gaussian_dx)\n",
    "    IY = ndimage.convolve(image, gaussian_dy)\n",
    "    IX2 = ndimage.convolve(IX^2, large_gaussian)\n",
    "    IY2 = ndimage.convolve(IY^2, large_gaussian)\n",
    "    IXY = ndimage.convolve(IX*IY, large_gaussian)\n",
    "\n",
    "    harris = IX2*IY2 - IXY^2 - k*(IX2+IY2)*(IX2+IY2)\n",
    "    border = np.zeros(img_size)\n",
    "    border[feature_width + 1 : -1 - feature_width, feature_width + 1 : -1 - feature_width ] = 1\n",
    "    harris = harris * border\n",
    "    threshold =  np.mean(harris)\n",
    "    thresholded = harris > threshold\n",
    "\n",
    "    mask = non_maximum_suppression (thresholded)\n",
    "    \n",
    "    count = np.count_nonzero(mask)\n",
    "    # x = np.zeros(count,1)\n",
    "    # y = np.zeros(count,1)\n",
    "\n",
    "    x,y =np.where(mask)\n",
    "    \n",
    "    sum = 0\n",
    "    for ii in range(1, len(x)):\n",
    "        for jj in range (2,len(x)):\n",
    "            sum = sum + ((x(ii)-x(jj))^2 + (y(ii)-y(jj))^2)^(1/2)\n",
    "    scale = (len(x)^2)/sum\n",
    "    return mask, x, y, scale"
   ]
  },
  {
   "cell_type": "code",
   "execution_count": 38,
   "metadata": {},
   "outputs": [],
   "source": [
    "def get_features (image, x, y, feature_width, scale):\n",
    "    feature_width = round(feature_width  * scale / 4) * 4\n",
    "    total_num = len(x)\n",
    "    feature_dimensionality = 128\n",
    "    features = np.zeros(total_num, feature_dimensionality)\n",
    "    gaussian = gaussian_kernel(feature_width,1)\n",
    "    smooth_gaussian = gaussian_kernel(feature_width, feature_width/2)\n",
    "    \n",
    "    gaussian_dx = np.gradient(gaussian, axis=0)\n",
    "    gaussian_dy = np.gradient(gaussian, axis=1)\n",
    "\n",
    "    IX = ndimage.convolve(image, gaussian_dx)\n",
    "    IY = ndimage.convolve(image, gaussian_dy)\n",
    "    magnitude = np.sqrt(IX^ 2 + IY^ 2)\n",
    "    direction = np.mod(round((np.arctan2(IY, IX) + 2 * np.pi) / (np.pi / 4)), 8)"
   ]
  }
 ],
 "metadata": {
  "kernelspec": {
   "display_name": "Python 3.9.13 ('base')",
   "language": "python",
   "name": "python3"
  },
  "language_info": {
   "codemirror_mode": {
    "name": "ipython",
    "version": 3
   },
   "file_extension": ".py",
   "mimetype": "text/x-python",
   "name": "python",
   "nbconvert_exporter": "python",
   "pygments_lexer": "ipython3",
   "version": "3.9.13"
  },
  "orig_nbformat": 4,
  "vscode": {
   "interpreter": {
    "hash": "ad2bdc8ecc057115af97d19610ffacc2b4e99fae6737bb82f5d7fb13d2f2c186"
   }
  }
 },
 "nbformat": 4,
 "nbformat_minor": 2
}
