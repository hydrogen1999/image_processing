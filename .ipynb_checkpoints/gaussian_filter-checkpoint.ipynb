{
 "cells": [
  {
   "cell_type": "code",
   "execution_count": 1295,
   "id": "274d1607",
   "metadata": {},
   "outputs": [],
   "source": [
    "from itertools import product\n",
    "from numpy import dot, exp, mgrid, pi, ravel, square, uint8, zeros\n",
    "import numpy as np\n",
    "import cv2\n",
    "from scipy import ndimage\n",
    "import matplotlib.pyplot as plt\n",
    "import imageio"
   ]
  },
  {
   "cell_type": "markdown",
   "id": "c5a98ebf",
   "metadata": {},
   "source": [
    "### DATA INPUT"
   ]
  },
  {
   "cell_type": "code",
   "execution_count": 1296,
   "id": "e6de4af4",
   "metadata": {},
   "outputs": [],
   "source": [
    "img = cv2.imread(r\"img/plane.bmp\")"
   ]
  },
  {
   "cell_type": "code",
   "execution_count": 1297,
   "id": "d47be960",
   "metadata": {},
   "outputs": [],
   "source": [
    "def rgb2gray(img) :\n",
    "    return dot(img[..., :3], [0.2989, 0.5870, 0.1140])"
   ]
  },
  {
   "cell_type": "markdown",
   "id": "7a499104",
   "metadata": {},
   "source": [
    "### GAUSSIAN FILTER"
   ]
  },
  {
   "cell_type": "code",
   "execution_count": 1298,
   "id": "01220700",
   "metadata": {},
   "outputs": [],
   "source": [
    "# def gen_gaussian_kernel(k_size, sigma):\n",
    "#     center = k_size // 2\n",
    "#     x, y = mgrid[0 - center : k_size - center, 0 - center : k_size - center]\n",
    "#     g = 1 / (2 * pi * sigma) * exp(-(square(x) + square(y)) / (2 * square(sigma)))\n",
    "#     return g"
   ]
  },
  {
   "cell_type": "code",
   "execution_count": 1299,
   "id": "d1e435c6",
   "metadata": {},
   "outputs": [],
   "source": [
    "# def gaussian_filter(image, k_size, sigma):\n",
    "#     height, width = image.shape[0], image.shape[1]\n",
    "#     # dst image height and width\n",
    "#     dst_height = height - k_size + 1\n",
    "#     dst_width = width - k_size + 1\n",
    "\n",
    "#     # im2col, turn the k_size*k_size pixels into a row and np.vstack all rows\n",
    "#     image_array = zeros((dst_height * dst_width, k_size * k_size))\n",
    "#     row = 0\n",
    "#     for i, j in product(range(dst_height), range(dst_width)):\n",
    "#         window = ravel(image[i : i + k_size, j : j + k_size])\n",
    "#         image_array[row, :] = window\n",
    "#         row += 1\n",
    "\n",
    "#     #  turn the kernel into shape(k*k, 1)\n",
    "#     gaussian_kernel = gen_gaussian_kernel(k_size, sigma)\n",
    "#     filter_array = ravel(gaussian_kernel)\n",
    "\n",
    "#     # reshape and get the dst image\n",
    "#     dst = dot(image_array, filter_array).reshape(dst_height, dst_width).astype(uint8)\n",
    "\n",
    "#     return dst"
   ]
  },
  {
   "cell_type": "code",
   "execution_count": 1300,
   "id": "e82d3f4a",
   "metadata": {},
   "outputs": [
    {
     "data": {
      "text/plain": [
       "True"
      ]
     },
     "execution_count": 1300,
     "metadata": {},
     "output_type": "execute_result"
    }
   ],
   "source": [
    "gray = rgb2gray(img)\n",
    "gray = np.float32(gray)\n",
    "# gaussian3x3 = gaussian_filter(gray, 3, sigma=1)\n",
    "gaussian3x3 = ndimage.gaussian_filter(gray, sigma = 1.0)\n",
    "cv2.imwrite('blur2.jpeg', gaussian3x3)"
   ]
  },
  {
   "cell_type": "code",
   "execution_count": 1301,
   "id": "2e4982ea",
   "metadata": {},
   "outputs": [],
   "source": [
    "#===============================================\n",
    "# ==================NDIMAGE=====================\n",
    "#===============================================\n",
    "# blur_img = ndimage.gaussian_filter(gray, sigma = 1.0)\n",
    "# cv2.imwrite('savedimage.jpeg', blur_img) "
   ]
  },
  {
   "cell_type": "markdown",
   "id": "7463e90d",
   "metadata": {},
   "source": [
    "\n",
    "### GRADIENT"
   ]
  },
  {
   "cell_type": "markdown",
   "id": "ddb94c7d",
   "metadata": {},
   "source": [
    "#### Gaussian Gradient"
   ]
  },
  {
   "cell_type": "code",
   "execution_count": 1302,
   "id": "d6a9105e",
   "metadata": {},
   "outputs": [],
   "source": [
    "# gauss_x = gen_gaussian_kernel(3,1)\n",
    "# gauss_y = np.transpose(gauss_x)*-1\n",
    "# def gradient_x(img) :\n",
    "#     grad_img = ndimage.convolve(img, gauss_x)\n",
    "#     return grad_img/np.max(grad_img)\n",
    "\n",
    "# def gradient_y(img) :\n",
    "#     grad_img = ndimage.convolve(img, gauss_y)\n",
    "#     return grad_img/np.max(grad_img)"
   ]
  },
  {
   "cell_type": "markdown",
   "id": "2964bebe",
   "metadata": {},
   "source": [
    "#### Sobel Gradient"
   ]
  },
  {
   "cell_type": "code",
   "execution_count": 1303,
   "id": "6f65777b",
   "metadata": {},
   "outputs": [],
   "source": [
    "def gradient_x(img) :\n",
    "    grad_img = ndimage.convolve(img, np.array([[-1, 0, 1],[-2, 0, 2],[-1, 0, 1]]))\n",
    "    return grad_img/np.max(grad_img)\n",
    "\n",
    "def gradient_y(img) :\n",
    "    grad_img = ndimage.convolve(img, np.array([[-1, -2, -1],[0, 0, 0],[1, 2, 1]]))\n",
    "    return grad_img/np.max(grad_img)"
   ]
  },
  {
   "cell_type": "code",
   "execution_count": 1304,
   "id": "9271fcec",
   "metadata": {},
   "outputs": [],
   "source": [
    "x_grad = gradient_x(gaussian3x3)\n",
    "y_grad = gradient_y(gaussian3x3)"
   ]
  },
  {
   "cell_type": "markdown",
   "id": "36d00bbe",
   "metadata": {},
   "source": [
    "### AUTOCORRELATION MATRIX"
   ]
  },
  {
   "cell_type": "code",
   "execution_count": 1305,
   "id": "875027fe",
   "metadata": {},
   "outputs": [],
   "source": [
    "xx_grad = x_grad * x_grad\n",
    "yy_grad = y_grad * y_grad\n",
    "xy_grad = x_grad * y_grad"
   ]
  },
  {
   "cell_type": "markdown",
   "id": "da80c948",
   "metadata": {},
   "source": [
    "### FIND CORNERS"
   ]
  },
  {
   "cell_type": "markdown",
   "id": "54c70ae5",
   "metadata": {},
   "source": [
    "#### Constants"
   ]
  },
  {
   "cell_type": "code",
   "execution_count": 1306,
   "id": "2b01b042",
   "metadata": {},
   "outputs": [],
   "source": [
    "tuple_data = []\n",
    "k =0.04\n",
    "max=0\n",
    "ratio = 0.001"
   ]
  },
  {
   "cell_type": "markdown",
   "id": "596a2df4",
   "metadata": {},
   "source": [
    "#### Window compute corners"
   ]
  },
  {
   "cell_type": "code",
   "execution_count": 1307,
   "id": "5d27a1bd",
   "metadata": {},
   "outputs": [
    {
     "name": "stdout",
     "output_type": "stream",
     "text": [
      "0\n"
     ]
    }
   ],
   "source": [
    "for i in range(1, int(img.shape[0] - 1)) :\n",
    "    for j in range(1, int(img.shape[1] - 1)) :\n",
    "        window_x = xx_grad[i-4 : i+5 , j-4 : j+5]\n",
    "        window_y = yy_grad[i-4 : i+5 , j-4 : j+5]\n",
    "        window_xy = xy_grad[i-4 : i+5 , j-4 : j+5]\n",
    "        sum_xx = np.sum(window_x)\n",
    "        sum_yy = np.sum(window_y)\n",
    "        sum_xy = np.sum(window_xy)\n",
    "        determinant = (sum_xx * sum_yy) - (sum_xy * sum_xy)\n",
    "        trace = sum_xx + sum_yy\n",
    "        R = determinant - (k * trace * trace)\n",
    "        tuple_data.append((i, j, R))\n",
    "        if(R > max) :\n",
    "            max = R\n",
    "print(max)"
   ]
  },
  {
   "cell_type": "markdown",
   "id": "3d131870",
   "metadata": {},
   "source": [
    "### NON MAXIMUM SUPPRESSION"
   ]
  },
  {
   "cell_type": "code",
   "execution_count": 1308,
   "id": "7bc0d71d",
   "metadata": {},
   "outputs": [
    {
     "ename": "IndexError",
     "evalue": "list index out of range",
     "output_type": "error",
     "traceback": [
      "\u001b[1;31m---------------------------------------------------------------------------\u001b[0m",
      "\u001b[1;31mIndexError\u001b[0m                                Traceback (most recent call last)",
      "\u001b[1;32m~\\AppData\\Local\\Temp\\ipykernel_2772\\4007629826.py\u001b[0m in \u001b[0;36m<module>\u001b[1;34m\u001b[0m\n\u001b[0;32m     10\u001b[0m \u001b[0msorted_L\u001b[0m \u001b[1;33m=\u001b[0m \u001b[0msorted\u001b[0m\u001b[1;33m(\u001b[0m\u001b[0mL\u001b[0m\u001b[1;33m,\u001b[0m \u001b[0mkey\u001b[0m \u001b[1;33m=\u001b[0m \u001b[1;32mlambda\u001b[0m \u001b[0mx\u001b[0m\u001b[1;33m:\u001b[0m \u001b[0mx\u001b[0m\u001b[1;33m[\u001b[0m\u001b[1;36m2\u001b[0m\u001b[1;33m]\u001b[0m\u001b[1;33m,\u001b[0m \u001b[0mreverse\u001b[0m \u001b[1;33m=\u001b[0m \u001b[1;32mTrue\u001b[0m\u001b[1;33m)\u001b[0m\u001b[1;33m\u001b[0m\u001b[1;33m\u001b[0m\u001b[0m\n\u001b[0;32m     11\u001b[0m \u001b[0mfinal_L\u001b[0m \u001b[1;33m=\u001b[0m \u001b[1;33m[\u001b[0m\u001b[1;33m]\u001b[0m \u001b[1;31m#final_l contains list after non maximal suppression\u001b[0m\u001b[1;33m\u001b[0m\u001b[1;33m\u001b[0m\u001b[0m\n\u001b[1;32m---> 12\u001b[1;33m \u001b[0mfinal_L\u001b[0m\u001b[1;33m.\u001b[0m\u001b[0mappend\u001b[0m\u001b[1;33m(\u001b[0m\u001b[0msorted_L\u001b[0m\u001b[1;33m[\u001b[0m\u001b[1;36m0\u001b[0m\u001b[1;33m]\u001b[0m\u001b[1;33m[\u001b[0m\u001b[1;33m:\u001b[0m\u001b[1;33m-\u001b[0m\u001b[1;36m1\u001b[0m\u001b[1;33m]\u001b[0m\u001b[1;33m)\u001b[0m\u001b[1;33m\u001b[0m\u001b[1;33m\u001b[0m\u001b[0m\n\u001b[0m\u001b[0;32m     13\u001b[0m \u001b[0mdis\u001b[0m \u001b[1;33m=\u001b[0m \u001b[1;36m10\u001b[0m\u001b[1;33m\u001b[0m\u001b[1;33m\u001b[0m\u001b[0m\n\u001b[0;32m     14\u001b[0m \u001b[0mxc\u001b[0m\u001b[1;33m,\u001b[0m \u001b[0myc\u001b[0m \u001b[1;33m=\u001b[0m \u001b[1;33m[\u001b[0m\u001b[1;33m]\u001b[0m\u001b[1;33m,\u001b[0m \u001b[1;33m[\u001b[0m\u001b[1;33m]\u001b[0m\u001b[1;33m\u001b[0m\u001b[1;33m\u001b[0m\u001b[0m\n",
      "\u001b[1;31mIndexError\u001b[0m: list index out of range"
     ]
    }
   ],
   "source": [
    "output_path = \"/output/\"\n",
    "L = []\n",
    "thres_ratio = ratio\n",
    "threshold = thres_ratio * max\n",
    "for res in tuple_data :\n",
    "    i, j, R = res\n",
    "    if R > threshold :\n",
    "        L.append([i, j, R])\n",
    "\n",
    "sorted_L = sorted(L, key = lambda x: x[2], reverse = True)\n",
    "final_L = [] #final_l contains list after non maximal suppression\n",
    "final_L.append(sorted_L[0][:-1])\n",
    "dis = 10\n",
    "xc, yc = [], []\n",
    "for i in sorted_L :\n",
    "    for j in final_L :\n",
    "        if(abs(i[0] - j[0] <= dis) and abs(i[1] - j[1]) <= dis) :\n",
    "            break\n",
    "    else :\n",
    "        final_L.append(i[:-1])\n",
    "        xc.append(i[1])\n",
    "        yc.append(i[0])\n",
    "print(len(sorted_L))\n",
    "print(len(final_L))\n",
    "\n",
    "#Print Final Image\n",
    "corner_img = np.zeros(img.shape)\n",
    "#(input_img.shape[0], input_img.shape[1], 3), dtype = np.uint8)\n",
    "\n",
    "for i in final_L :\n",
    "    y, x = i[0], i[1]\n",
    "    corner_img[y][x] = 1\n",
    "\n",
    "plt.imshow(img, cmap = plt.get_cmap('gray'))\n",
    "plt.plot(xc, yc, '*', color='red')\n",
    "\n",
    "plt.savefig('res3.png')\n",
    "plt.show()"
   ]
  }
 ],
 "metadata": {
  "kernelspec": {
   "display_name": "Python 3 (ipykernel)",
   "language": "python",
   "name": "python3"
  },
  "language_info": {
   "codemirror_mode": {
    "name": "ipython",
    "version": 3
   },
   "file_extension": ".py",
   "mimetype": "text/x-python",
   "name": "python",
   "nbconvert_exporter": "python",
   "pygments_lexer": "ipython3",
   "version": "3.9.13"
  }
 },
 "nbformat": 4,
 "nbformat_minor": 5
}
