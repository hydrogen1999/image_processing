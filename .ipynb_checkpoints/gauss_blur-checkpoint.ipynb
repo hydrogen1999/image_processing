{
 "cells": [
  {
   "cell_type": "code",
   "execution_count": 38,
   "id": "b8a887af",
   "metadata": {},
   "outputs": [],
   "source": [
    "import numpy as np\n",
    "from PIL import Image"
   ]
  },
  {
   "cell_type": "code",
   "execution_count": 39,
   "id": "17ec4128",
   "metadata": {},
   "outputs": [],
   "source": [
    "def convolution(oldimage, kernel):\n",
    "    #image = Image.fromarray(image, 'RGB')\n",
    "    image_h = oldimage.shape[0]\n",
    "    image_w = oldimage.shape[1]\n",
    "    print(image_h)\n",
    "    \n",
    "    kernel_h = kernel.shape[0]\n",
    "    kernel_w = kernel.shape[1]\n",
    "    print(kernel_h)\n",
    "    if(len(oldimage.shape) == 3):\n",
    "        image_pad = np.pad(oldimage, pad_width=((kernel_h // 2, kernel_h // 2),(kernel_w // 2, kernel_w // 2),(0,0)), mode='constant', constant_values=0).astype(np.float32)    \n",
    "    elif(len(oldimage.shape) == 2):\n",
    "        image_pad = np.pad(oldimage, pad_width=((kernel_h // 2, kernel_h // 2),(kernel_w // 2, kernel_w // 2)), mode='constant', constant_values=0).astype(np.float32)\n",
    "    \n",
    "    \n",
    "    h = kernel_h // 2\n",
    "    w = kernel_w // 2\n",
    "    \n",
    "    image_conv = np.zeros(image_pad.shape)\n",
    "    \n",
    "    for i in range(h, image_pad.shape[0]-h):\n",
    "        for j in range(w, image_pad.shape[1]-w):\n",
    "            #sum = 0\n",
    "            x = image_pad[i-h:i-h+kernel_h, j-w:j-w+kernel_w]\n",
    "            x = x.flatten()*kernel.flatten()\n",
    "            image_conv[i][j] = x.sum()\n",
    "    h_end = -h\n",
    "    w_end = -w\n",
    "    \n",
    "    if(h == 0):\n",
    "        return image_conv[h:,w:w_end]\n",
    "    if(w == 0):\n",
    "        return image_conv[h:h_end,w:]\n",
    "    return image_conv[h:h_end,w:w_end]"
   ]
  },
  {
   "cell_type": "code",
   "execution_count": 40,
   "id": "7d3a7531",
   "metadata": {},
   "outputs": [],
   "source": [
    "def GaussianBlurImage(image, sigma):\n",
    "    #image = imread(image)\n",
    "    image = Image.open(image)\n",
    "    image = np.asarray(image)\n",
    "    #print(image)\n",
    "    filter_size = 2 * int(4 * sigma + 0.5) + 1\n",
    "    gaussian_filter = np.zeros((filter_size, filter_size), np.float32)\n",
    "    m = filter_size//2\n",
    "    n = filter_size//2\n",
    "    \n",
    "    for x in range(-m, m+1):\n",
    "        for y in range(-n, n+1):\n",
    "            x1 = 2*np.pi*(sigma**2)\n",
    "            x2 = np.exp(-(x**2 + y**2)/(2* sigma**2))\n",
    "            gaussian_filter[x+m, y+n] = (1/x1)*x2\n",
    "    im_filtered = np.zeros_like(image, dtype=np.float32)\n",
    "    im_filtered[:, :] = convolution(image[:, :], gaussian_filter)  \n",
    "    #for c in range(3):\n",
    "        #im_filtered[:, :, c] = convolution(image[:, :, c], gaussian_filter)  \n",
    "        #print(gaussian_filter)\n",
    "    return (im_filtered.astype(np.uint8))"
   ]
  },
  {
   "cell_type": "code",
   "execution_count": 42,
   "id": "2c3cef6a",
   "metadata": {},
   "outputs": [
    {
     "name": "stdout",
     "output_type": "stream",
     "text": [
      "2592\n",
      "89\n"
     ]
    }
   ],
   "source": [
    "image = GaussianBlurImage(\"img/gray1.jpg\", 11)\n",
    "img = Image.fromarray(image, 'L')\n",
    "img.save('output/GrayBlur2.jpg')\n",
    "img.show()"
   ]
  },
  {
   "cell_type": "code",
   "execution_count": null,
   "id": "1fb386c2",
   "metadata": {},
   "outputs": [],
   "source": []
  },
  {
   "cell_type": "code",
   "execution_count": null,
   "id": "f954da3a",
   "metadata": {},
   "outputs": [],
   "source": []
  }
 ],
 "metadata": {
  "kernelspec": {
   "display_name": "Python 3 (ipykernel)",
   "language": "python",
   "name": "python3"
  },
  "language_info": {
   "codemirror_mode": {
    "name": "ipython",
    "version": 3
   },
   "file_extension": ".py",
   "mimetype": "text/x-python",
   "name": "python",
   "nbconvert_exporter": "python",
   "pygments_lexer": "ipython3",
   "version": "3.9.13"
  }
 },
 "nbformat": 4,
 "nbformat_minor": 5
}
